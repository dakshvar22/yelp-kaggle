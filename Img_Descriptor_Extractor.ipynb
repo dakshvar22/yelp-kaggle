{
 "cells": [
  {
   "cell_type": "code",
   "execution_count": 2,
   "metadata": {
    "collapsed": false
   },
   "outputs": [],
   "source": [
    "import pandas as pd\n",
    "import os\n",
    "import time\n",
    "\n",
    "import numpy as np\n",
    "import matplotlib.pyplot as plt\n",
    "import h5py\n",
    "# import cv2\n",
    "from skimage.feature import hog\n",
    "from skimage.transform import resize\n",
    "from skimage import io, data, color, exposure\n",
    "# hog = cv2.HOGDescriptor()"
   ]
  },
  {
   "cell_type": "code",
   "execution_count": 5,
   "metadata": {
    "collapsed": true
   },
   "outputs": [],
   "source": [
    "def get_imlist(paths):\n",
    "    return [os.path.join(path,f) for path in paths for f in os.listdir(path) if (f.endswith('.jpg') or f.endswith('.png'))]"
   ]
  },
  {
   "cell_type": "code",
   "execution_count": 6,
   "metadata": {
    "collapsed": true
   },
   "outputs": [],
   "source": [
    "def extract_hog_features(image_path):\n",
    "    image = io.imread(image_path)\n",
    "    image = color.rgb2gray(image)\n",
    "    image_resized = resize(image, (256, 256))\n",
    "    return hog(image_resized, orientations=8,\n",
    "        pixels_per_cell=(16, 16), cells_per_block=(1, 1))"
   ]
  },
  {
   "cell_type": "code",
   "execution_count": 10,
   "metadata": {
    "collapsed": false
   },
   "outputs": [
    {
     "name": "stdout",
     "output_type": "stream",
     "text": [
      "Number of training images:  8701\n",
      "Train images processed:  8701\n",
      "\n",
      "Features extracted in 276.779347s\n"
     ]
    }
   ],
   "source": [
    "# extract image features and save it to .h5\n",
    "\n",
    "# Initialize files\n",
    "data_root = 'data/'\n",
    "\n",
    "f = h5py.File(data_root+'train_image_HOGfeatures.h5','w')\n",
    "filenames = f.create_dataset('photo_id',(0,), maxshape=(None,),dtype='|S54')\n",
    "feature = f.create_dataset('feature',(0,2048), maxshape = (None,2048))\n",
    "f.close()\n",
    "\n",
    "\n",
    "train_photos = pd.read_csv(data_root + 'train_photo_to_biz_ids.csv')\n",
    "train_folder = data_root+'train_photos/'\n",
    "# train_images = [os.path.join(train_folder, str(x)+'.jpg') for x in train_photos['photo_id']]  # get full filename\n",
    "\n",
    "train_images = get_imlist([train_folder])\n",
    "num_train = len(train_images)\n",
    "print \"Number of training images: \", num_train\n",
    "\n",
    "tic = time.time()\n",
    "\n",
    "# Training Images\n",
    "for i in range(0, num_train):\n",
    "    feature = extract_hog_features(train_images[i])\n",
    "    num_done = i+1\n",
    "    f= h5py.File(data_root+'train_image_HOGfeatures.h5','r+')\n",
    "    f['photo_id'].resize((num_done,))\n",
    "    f['photo_id'][i] = train_images[i]\n",
    "    f['feature'].resize((num_done,feature.shape[0]))\n",
    "    f['feature'][i, :] = feature\n",
    "    f.close()\n",
    "    if num_done%10000==0 or num_done==num_train:\n",
    "        print \"Train images processed: \", num_done\n",
    "\n",
    "toc = time.time()\n",
    "print '\\nFeatures extracted in %fs' % (toc - tic)"
   ]
  },
  {
   "cell_type": "code",
   "execution_count": 11,
   "metadata": {
    "collapsed": false
   },
   "outputs": [
    {
     "name": "stdout",
     "output_type": "stream",
     "text": [
      "train_image_features.h5:\n",
      "feature (8701, 2048)\n",
      "photo_id (8701,)\n",
      "\n",
      "A photo: data/train_photos/118032.jpg\n",
      "Its feature vector (first 10-dim):  [ 0.11053389  0.17010261  0.17975943  0.09998228  0.1717571   0.07637832\n",
      "  0.09547274  0.08248253  0.10122443  0.10356585]  ...\n"
     ]
    }
   ],
   "source": [
    "f = h5py.File(data_root+'train_image_HOGfeatures.h5','r')\n",
    "print 'train_image_features.h5:'\n",
    "for key in f.keys():\n",
    "    print key, f[key].shape\n",
    "    \n",
    "print \"\\nA photo:\", f['photo_id'][0]\n",
    "print \"Its feature vector (first 10-dim): \", f['feature'][0][0:10], \" ...\"\n",
    "f.close()"
   ]
  },
  {
   "cell_type": "code",
   "execution_count": 12,
   "metadata": {
    "collapsed": false
   },
   "outputs": [
    {
     "name": "stdout",
     "output_type": "stream",
     "text": [
      "Number of test images:  3807\n",
      "Test images processed:  3807\n",
      "\n",
      "Features extracted in 128.981083s\n"
     ]
    }
   ],
   "source": [
    "f = h5py.File(data_root+'test_image_HOGfeatures.h5','w')\n",
    "filenames = f.create_dataset('photo_id',(0,), maxshape=(None,),dtype='|S54')\n",
    "feature = f.create_dataset('feature',(0,2048), maxshape = (None,2048))\n",
    "f.close()\n",
    "\n",
    "test_photos = pd.read_csv(data_root+'test_photo_to_biz.csv')\n",
    "test_folder = data_root+'test_photos/'\n",
    "# test_images = [os.path.join(test_folder, str(x)+'.jpg') for x in test_photos['photo_id'].unique()]\n",
    "\n",
    "test_images = get_imlist([test_folder])\n",
    "num_test = len(test_images)\n",
    "print \"Number of test images: \", num_test\n",
    "\n",
    "tic = time.time()\n",
    "\n",
    "# Test Images\n",
    "for i in range(0, num_test):\n",
    "    feature = extract_hog_features(test_images[i])\n",
    "    num_done = i+1\n",
    "    f= h5py.File(data_root+'test_image_HOGfeatures.h5','r+')\n",
    "    f['photo_id'].resize((num_done,))\n",
    "    f['photo_id'][i] = test_images[i]\n",
    "    f['feature'].resize((num_done,feature.shape[0]))\n",
    "    f['feature'][i, :] = feature\n",
    "    f.close()\n",
    "    if num_done%20000==0 or num_done==num_test:\n",
    "        print \"Test images processed: \", num_done\n",
    "\n",
    "toc = time.time()\n",
    "print '\\nFeatures extracted in %fs' % (toc - tic)  "
   ]
  },
  {
   "cell_type": "code",
   "execution_count": null,
   "metadata": {
    "collapsed": true
   },
   "outputs": [],
   "source": []
  }
 ],
 "metadata": {
  "kernelspec": {
   "display_name": "Python 2",
   "language": "python",
   "name": "python2"
  },
  "language_info": {
   "codemirror_mode": {
    "name": "ipython",
    "version": 2
   },
   "file_extension": ".py",
   "mimetype": "text/x-python",
   "name": "python",
   "nbconvert_exporter": "python",
   "pygments_lexer": "ipython2",
   "version": "2.7.6"
  }
 },
 "nbformat": 4,
 "nbformat_minor": 0
}
