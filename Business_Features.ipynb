{
 "cells": [
  {
   "cell_type": "code",
   "execution_count": 4,
   "metadata": {
    "collapsed": false
   },
   "outputs": [
    {
     "name": "stdout",
     "output_type": "stream",
     "text": [
      "Number of business:  1996 (4 business with missing labels are dropped)\n",
      "Buisness processed:  1000 Time passed:  4.0 sec\n"
     ]
    }
   ],
   "source": [
    "data_root = 'data/'\n",
    "\n",
    "import numpy as np\n",
    "import pandas as pd \n",
    "import h5py\n",
    "import time\n",
    "\n",
    "train_photo_to_biz = pd.read_csv(data_root+'train_photo_to_biz_ids.csv')\n",
    "train_labels = pd.read_csv(data_root+'train.csv').dropna()\n",
    "train_labels['labels'] = train_labels['labels'].apply(lambda x: tuple(sorted(int(t) for t in x.split())))\n",
    "train_labels.set_index('business_id', inplace=True)\n",
    "biz_ids = train_labels.index.unique()\n",
    "print \"Number of business: \", len(biz_ids) ,   \"(4 business with missing labels are dropped)\"\n",
    "\n",
    "train_folder = data_root+'train_photo_folders/'\n",
    "\n",
    "\n",
    "## Load image features\n",
    "f = h5py.File(data_root+'train_image_HOGfeatures.h5','r')\n",
    "train_image_features = np.copy(f['feature'])\n",
    "f.close()\n",
    "\n",
    "\n",
    "t= time.time()\n",
    "## For each business, compute a feature vector \n",
    "df = pd.DataFrame(columns=['business','label','feature vector'])\n",
    "index = 0\n",
    "for biz in biz_ids:  \n",
    "    \n",
    "    label = train_labels.loc[biz]['labels']\n",
    "    image_index = train_photo_to_biz[train_photo_to_biz['business_id']==biz].index.tolist()\n",
    "      \n",
    "#     print image_index\n",
    "    image_index = [image for image in image_index if image <len(train_image_features)]\n",
    "    if len(image_index) == 0:\n",
    "        continue\n",
    "    features = train_image_features[image_index]\n",
    "    mean_feature =list(np.mean(features,axis=0))\n",
    "\n",
    "    df.loc[index] = [biz, label, mean_feature]\n",
    "    index+=1\n",
    "    if index%1000==0:\n",
    "        print \"Buisness processed: \", index, \"Time passed: \", \"{0:.1f}\".format(time.time()-t), \"sec\"\n",
    "\n",
    "with open(data_root+\"train_biz_HOGfeatures.csv\",'w') as f:  \n",
    "    df.to_csv(f, index=False)"
   ]
  },
  {
   "cell_type": "code",
   "execution_count": 5,
   "metadata": {
    "collapsed": false
   },
   "outputs": [
    {
     "name": "stdout",
     "output_type": "stream",
     "text": [
      "(1115, 3)\n"
     ]
    },
    {
     "data": {
      "text/html": [
       "<div>\n",
       "<table border=\"1\" class=\"dataframe\">\n",
       "  <thead>\n",
       "    <tr style=\"text-align: right;\">\n",
       "      <th></th>\n",
       "      <th>business</th>\n",
       "      <th>label</th>\n",
       "      <th>feature vector</th>\n",
       "    </tr>\n",
       "  </thead>\n",
       "  <tbody>\n",
       "    <tr>\n",
       "      <th>0</th>\n",
       "      <td>1001</td>\n",
       "      <td>(0, 1, 6, 8)</td>\n",
       "      <td>[0.26290563, 0.094085656, 0.085721985, 0.09975...</td>\n",
       "    </tr>\n",
       "    <tr>\n",
       "      <th>1</th>\n",
       "      <td>100</td>\n",
       "      <td>(1, 2, 4, 5, 6, 7)</td>\n",
       "      <td>[0.084665455, 0.042148672, 0.098702617, 0.2758...</td>\n",
       "    </tr>\n",
       "    <tr>\n",
       "      <th>2</th>\n",
       "      <td>1006</td>\n",
       "      <td>(1, 2, 4, 5, 6)</td>\n",
       "      <td>[0.066267937, 0.5848918, 0.31986001, 0.0071875...</td>\n",
       "    </tr>\n",
       "    <tr>\n",
       "      <th>3</th>\n",
       "      <td>101</td>\n",
       "      <td>(1, 2, 3, 4, 5, 6)</td>\n",
       "      <td>[0.14571482, 0.047799882, 0.06038243, 0.108079...</td>\n",
       "    </tr>\n",
       "    <tr>\n",
       "      <th>4</th>\n",
       "      <td>1012</td>\n",
       "      <td>(1, 2, 3, 5, 6)</td>\n",
       "      <td>[0.077827349, 0.038681846, 0.044559114, 0.0929...</td>\n",
       "    </tr>\n",
       "  </tbody>\n",
       "</table>\n",
       "</div>"
      ],
      "text/plain": [
       "   business               label  \\\n",
       "0      1001        (0, 1, 6, 8)   \n",
       "1       100  (1, 2, 4, 5, 6, 7)   \n",
       "2      1006     (1, 2, 4, 5, 6)   \n",
       "3       101  (1, 2, 3, 4, 5, 6)   \n",
       "4      1012     (1, 2, 3, 5, 6)   \n",
       "\n",
       "                                      feature vector  \n",
       "0  [0.26290563, 0.094085656, 0.085721985, 0.09975...  \n",
       "1  [0.084665455, 0.042148672, 0.098702617, 0.2758...  \n",
       "2  [0.066267937, 0.5848918, 0.31986001, 0.0071875...  \n",
       "3  [0.14571482, 0.047799882, 0.06038243, 0.108079...  \n",
       "4  [0.077827349, 0.038681846, 0.044559114, 0.0929...  "
      ]
     },
     "execution_count": 5,
     "metadata": {},
     "output_type": "execute_result"
    }
   ],
   "source": [
    "# Check file content\n",
    "train_business = pd.read_csv(data_root+'train_biz_HOGfeatures.csv')\n",
    "print train_business.shape\n",
    "train_business[0:5]"
   ]
  },
  {
   "cell_type": "markdown",
   "metadata": {},
   "source": [
    "## Compute test set businesses"
   ]
  },
  {
   "cell_type": "code",
   "execution_count": 6,
   "metadata": {
    "collapsed": false
   },
   "outputs": [
    {
     "name": "stdout",
     "output_type": "stream",
     "text": [
      "Number of business:  10000\n",
      "Buisness processed:  1000 Time passed:  57.3 sec\n",
      "Buisness processed:  2000 Time passed:  114.6 sec\n",
      "Buisness processed:  3000 Time passed:  173.1 sec\n",
      "Buisness processed:  4000 Time passed:  230.3 sec\n",
      "Buisness processed:  5000 Time passed:  287.6 sec\n",
      "Buisness processed:  6000 Time passed:  347.1 sec\n"
     ]
    }
   ],
   "source": [
    "test_photo_to_biz = pd.read_csv(data_root+'test_photo_to_biz.csv')\n",
    "biz_ids = test_photo_to_biz['business_id'].unique()\n",
    "\n",
    "## Load image features\n",
    "f = h5py.File(data_root+'test_image_HOGfeatures.h5','r')\n",
    "image_filenames = list(np.copy(f['photo_id']))\n",
    "# print image_filenames\n",
    "image_filenames = [name.split('/')[-1][:-4] for name in image_filenames]  #remove the full path and the str \".jpg\"\n",
    "image_features = np.copy(f['feature'])\n",
    "f.close()\n",
    "# print image_filenames\n",
    "\n",
    "print \"Number of business: \", len(biz_ids)\n",
    "\n",
    "df = pd.DataFrame(columns=['business','feature vector'])\n",
    "index = 0\n",
    "t = time.time()\n",
    "\n",
    "for biz in biz_ids:     \n",
    "    \n",
    "    image_ids = test_photo_to_biz[test_photo_to_biz['business_id']==biz]['photo_id'].tolist()  \n",
    "#     print image_ids\n",
    "    image_ids = [id for id in image_ids if str(id) in image_filenames]\n",
    "\n",
    "    image_index = [image_filenames.index(str(x)) for x in image_ids]\n",
    "    \n",
    "#     print image_index\n",
    "    if len(image_index) == 0:\n",
    "        continue\n",
    "    folder = data_root+'test_photo_folders/'            \n",
    "    features = image_features[image_index]\n",
    "    mean_feature =list(np.mean(features,axis=0))\n",
    "\n",
    "    df.loc[index] = [biz, mean_feature]\n",
    "    index+=1\n",
    "    if index%1000==0:\n",
    "        print \"Buisness processed: \", index, \"Time passed: \", \"{0:.1f}\".format(time.time()-t), \"sec\"\n",
    "\n",
    "with open(data_root+\"test_biz_HOGfeatures.csv\",'w') as f:  \n",
    "    df.to_csv(f, index=False)"
   ]
  },
  {
   "cell_type": "code",
   "execution_count": 7,
   "metadata": {
    "collapsed": false
   },
   "outputs": [
    {
     "name": "stdout",
     "output_type": "stream",
     "text": [
      "(6196, 2)\n"
     ]
    },
    {
     "data": {
      "text/html": [
       "<div>\n",
       "<table border=\"1\" class=\"dataframe\">\n",
       "  <thead>\n",
       "    <tr style=\"text-align: right;\">\n",
       "      <th></th>\n",
       "      <th>business</th>\n",
       "      <th>feature vector</th>\n",
       "    </tr>\n",
       "  </thead>\n",
       "  <tbody>\n",
       "    <tr>\n",
       "      <th>0</th>\n",
       "      <td>00er5</td>\n",
       "      <td>[0.14340249, 0.070842437, 0.081278458, 0.18202...</td>\n",
       "    </tr>\n",
       "    <tr>\n",
       "      <th>1</th>\n",
       "      <td>00kad</td>\n",
       "      <td>[0.14528593, 0.085006081, 0.42187384, 0.176173...</td>\n",
       "    </tr>\n",
       "    <tr>\n",
       "      <th>2</th>\n",
       "      <td>00v0t</td>\n",
       "      <td>[1.6457032e-15, 0.0, 0.0, 0.0, 1.0971354e-15, ...</td>\n",
       "    </tr>\n",
       "    <tr>\n",
       "      <th>3</th>\n",
       "      <td>01i5j</td>\n",
       "      <td>[0.27420247, 0.10946717, 0.038950976, 0.057225...</td>\n",
       "    </tr>\n",
       "    <tr>\n",
       "      <th>4</th>\n",
       "      <td>01is9</td>\n",
       "      <td>[0.054494027, 0.048283879, 0.16143079, 0.41932...</td>\n",
       "    </tr>\n",
       "  </tbody>\n",
       "</table>\n",
       "</div>"
      ],
      "text/plain": [
       "  business                                     feature vector\n",
       "0    00er5  [0.14340249, 0.070842437, 0.081278458, 0.18202...\n",
       "1    00kad  [0.14528593, 0.085006081, 0.42187384, 0.176173...\n",
       "2    00v0t  [1.6457032e-15, 0.0, 0.0, 0.0, 1.0971354e-15, ...\n",
       "3    01i5j  [0.27420247, 0.10946717, 0.038950976, 0.057225...\n",
       "4    01is9  [0.054494027, 0.048283879, 0.16143079, 0.41932..."
      ]
     },
     "execution_count": 7,
     "metadata": {},
     "output_type": "execute_result"
    }
   ],
   "source": [
    "# Check file content\n",
    "import pandas as pd\n",
    "test_business = pd.read_csv(data_root+'test_biz_HOGfeatures.csv')\n",
    "print test_business.shape\n",
    "test_business[0:5]"
   ]
  },
  {
   "cell_type": "code",
   "execution_count": null,
   "metadata": {
    "collapsed": true
   },
   "outputs": [],
   "source": []
  }
 ],
 "metadata": {
  "kernelspec": {
   "display_name": "Python 2",
   "language": "python",
   "name": "python2"
  },
  "language_info": {
   "codemirror_mode": {
    "name": "ipython",
    "version": 2
   },
   "file_extension": ".py",
   "mimetype": "text/x-python",
   "name": "python",
   "nbconvert_exporter": "python",
   "pygments_lexer": "ipython2",
   "version": "2.7.6"
  }
 },
 "nbformat": 4,
 "nbformat_minor": 0
}
